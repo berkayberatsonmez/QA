{
 "cells": [
  {
   "cell_type": "code",
   "execution_count": 75,
   "metadata": {},
   "outputs": [],
   "source": [
    "import pandas as pd\n",
    "import numpy\n",
    "from sentence_transformers import SentenceTransformer\n",
    "from sklearn.metrics.pairwise import cosine_similarity\n",
    "import speech_recognition\n",
    "import pyttsx3 as tts\n",
    "import sys"
   ]
  },
  {
   "cell_type": "code",
   "execution_count": 60,
   "metadata": {},
   "outputs": [],
   "source": [
    "recognizer = speech_recognition.Recognizer()\n",
    "\n",
    "speaker = tts.init('sapi5')\n",
    "voices = speaker.getProperty('voices')\n",
    "speaker.setProperty('voice', voices[1].id)\n",
    "speaker.setProperty('rate', 150)"
   ]
  },
  {
   "cell_type": "code",
   "execution_count": 61,
   "metadata": {},
   "outputs": [],
   "source": [
    "data = pd.read_excel(\"Kitap2.xlsx\")"
   ]
  },
  {
   "cell_type": "code",
   "execution_count": 62,
   "metadata": {},
   "outputs": [
    {
     "data": {
      "text/html": [
       "<div>\n",
       "<style scoped>\n",
       "    .dataframe tbody tr th:only-of-type {\n",
       "        vertical-align: middle;\n",
       "    }\n",
       "\n",
       "    .dataframe tbody tr th {\n",
       "        vertical-align: top;\n",
       "    }\n",
       "\n",
       "    .dataframe thead th {\n",
       "        text-align: right;\n",
       "    }\n",
       "</style>\n",
       "<table border=\"1\" class=\"dataframe\">\n",
       "  <thead>\n",
       "    <tr style=\"text-align: right;\">\n",
       "      <th></th>\n",
       "      <th>Questions</th>\n",
       "      <th>Answer</th>\n",
       "    </tr>\n",
       "  </thead>\n",
       "  <tbody>\n",
       "    <tr>\n",
       "      <th>0</th>\n",
       "      <td>How can ı go to Bedroom from the living room?</td>\n",
       "      <td>After exiting the living room, if we go straig...</td>\n",
       "    </tr>\n",
       "    <tr>\n",
       "      <th>1</th>\n",
       "      <td>I am in the Living room and ı want to go Bedroom</td>\n",
       "      <td>After exiting the living room, if we go straig...</td>\n",
       "    </tr>\n",
       "    <tr>\n",
       "      <th>2</th>\n",
       "      <td>I wanna go to the Bedroom from Living room</td>\n",
       "      <td>After exiting the living room, if we go straig...</td>\n",
       "    </tr>\n",
       "    <tr>\n",
       "      <th>3</th>\n",
       "      <td>Can you tell me, How can ı go to Bedroom from ...</td>\n",
       "      <td>After exiting the living room, if we go straig...</td>\n",
       "    </tr>\n",
       "    <tr>\n",
       "      <th>4</th>\n",
       "      <td>How can ı go to Kitchen from the living room?</td>\n",
       "      <td>If we go straight after leaving the living roo...</td>\n",
       "    </tr>\n",
       "    <tr>\n",
       "      <th>...</th>\n",
       "      <td>...</td>\n",
       "      <td>...</td>\n",
       "    </tr>\n",
       "    <tr>\n",
       "      <th>295</th>\n",
       "      <td>I am looking file.</td>\n",
       "      <td>It's in the leather bag in the living room.</td>\n",
       "    </tr>\n",
       "    <tr>\n",
       "      <th>296</th>\n",
       "      <td>Can you tell me, where can ı find the file?</td>\n",
       "      <td>It's in the leather bag in the living room.</td>\n",
       "    </tr>\n",
       "    <tr>\n",
       "      <th>297</th>\n",
       "      <td>Do you know where is the file?</td>\n",
       "      <td>It's in the leather bag in the living room.</td>\n",
       "    </tr>\n",
       "    <tr>\n",
       "      <th>298</th>\n",
       "      <td>How can ı go to toilet?</td>\n",
       "      <td>Bathroom, Opposite the Bedroom, crosswise the ...</td>\n",
       "    </tr>\n",
       "    <tr>\n",
       "      <th>299</th>\n",
       "      <td>Where is the toilet?</td>\n",
       "      <td>Bathroom, Opposite the Bedroom, crosswise the ...</td>\n",
       "    </tr>\n",
       "  </tbody>\n",
       "</table>\n",
       "<p>300 rows × 2 columns</p>\n",
       "</div>"
      ],
      "text/plain": [
       "                                             Questions  \\\n",
       "0        How can ı go to Bedroom from the living room?   \n",
       "1     I am in the Living room and ı want to go Bedroom   \n",
       "2           I wanna go to the Bedroom from Living room   \n",
       "3    Can you tell me, How can ı go to Bedroom from ...   \n",
       "4        How can ı go to Kitchen from the living room?   \n",
       "..                                                 ...   \n",
       "295                                 I am looking file.   \n",
       "296        Can you tell me, where can ı find the file?   \n",
       "297                     Do you know where is the file?   \n",
       "298                            How can ı go to toilet?   \n",
       "299                               Where is the toilet?   \n",
       "\n",
       "                                                Answer  \n",
       "0    After exiting the living room, if we go straig...  \n",
       "1    After exiting the living room, if we go straig...  \n",
       "2    After exiting the living room, if we go straig...  \n",
       "3    After exiting the living room, if we go straig...  \n",
       "4    If we go straight after leaving the living roo...  \n",
       "..                                                 ...  \n",
       "295        It's in the leather bag in the living room.  \n",
       "296        It's in the leather bag in the living room.  \n",
       "297        It's in the leather bag in the living room.  \n",
       "298  Bathroom, Opposite the Bedroom, crosswise the ...  \n",
       "299  Bathroom, Opposite the Bedroom, crosswise the ...  \n",
       "\n",
       "[300 rows x 2 columns]"
      ]
     },
     "execution_count": 62,
     "metadata": {},
     "output_type": "execute_result"
    }
   ],
   "source": [
    "data"
   ]
  },
  {
   "cell_type": "code",
   "execution_count": 66,
   "metadata": {},
   "outputs": [],
   "source": [
    "model_name = \"bert-base-nli-mean-tokens\"\n",
    "model = SentenceTransformer(model_name)"
   ]
  },
  {
   "cell_type": "code",
   "execution_count": 67,
   "metadata": {},
   "outputs": [],
   "source": [
    "sentence_vecs = model.encode(data[\"Questions\"])"
   ]
  },
  {
   "cell_type": "code",
   "execution_count": 44,
   "metadata": {},
   "outputs": [],
   "source": [
    "deneme = 'where is my toothbrush in Bathroom?'"
   ]
  },
  {
   "cell_type": "code",
   "execution_count": 45,
   "metadata": {},
   "outputs": [],
   "source": [
    "sentence_vecs1 = model.encode([deneme])"
   ]
  },
  {
   "cell_type": "code",
   "execution_count": 46,
   "metadata": {},
   "outputs": [],
   "source": [
    "similarity = cosine_similarity(\n",
    "    sentence_vecs1,\n",
    "    sentence_vecs[0:]\n",
    ")"
   ]
  },
  {
   "cell_type": "code",
   "execution_count": 47,
   "metadata": {},
   "outputs": [
    {
     "data": {
      "text/plain": [
       "array([[0.60596454, 0.5859099 , 0.5694816 , 0.60237914, 0.62609816,\n",
       "        0.5992164 , 0.5674732 , 0.6239002 , 0.74768054, 0.7778513 ,\n",
       "        0.7626618 , 0.74558175, 0.6154475 , 0.5845583 , 0.5687902 ,\n",
       "        0.61466396, 0.7758535 , 0.7485925 , 0.73187184, 0.7331924 ,\n",
       "        0.646579  , 0.6365498 , 0.5795363 , 0.6549798 , 0.8810334 ,\n",
       "        0.8391788 , 0.8044998 , 0.8260211 , 0.8785747 , 0.29039946,\n",
       "        0.16652308, 0.16193938, 0.27359918, 0.2963751 , 0.66050345,\n",
       "        0.51437086, 0.4594795 , 0.575802  , 0.6182976 , 0.47762448,\n",
       "        0.37750274, 0.31072795, 0.43323547, 0.49740863, 0.4880292 ,\n",
       "        0.3260188 , 0.30941927, 0.41545343, 0.4999546 , 0.45836797,\n",
       "        0.32643533, 0.2864948 , 0.39365298, 0.44363376, 0.66418433,\n",
       "        0.5358541 , 0.47792172, 0.5822393 , 0.63133216, 0.50205106,\n",
       "        0.376489  , 0.29973036, 0.4288035 , 0.48143023, 0.6881939 ,\n",
       "        0.5333868 , 0.5347252 , 0.59395635, 0.6581938 , 0.5745554 ,\n",
       "        0.4836901 , 0.43382508, 0.5513694 , 0.5531828 , 0.49077743,\n",
       "        0.39892918, 0.36935982, 0.45215192, 0.49011526, 0.49351943,\n",
       "        0.40831977, 0.34672362, 0.47944814, 0.5228598 , 0.4306849 ,\n",
       "        0.3107913 , 0.2622746 , 0.38008076, 0.40363026, 0.6819297 ,\n",
       "        0.6104839 , 0.5464878 , 0.61089325, 0.6529434 , 0.5562036 ,\n",
       "        0.4314193 , 0.47822   , 0.5013367 , 0.55363286, 0.4825588 ,\n",
       "        0.30309394, 0.33487064, 0.44638497, 0.4455079 , 0.5987557 ,\n",
       "        0.6064974 , 0.73152864, 0.83534324, 0.5534488 , 0.60312366,\n",
       "        0.5597308 , 0.6277627 , 0.17885019, 0.23818818, 0.6294259 ,\n",
       "        0.11757387, 0.15720895, 0.21525769, 0.20721875, 0.14135323,\n",
       "        0.08638   , 0.1662049 , 0.16800295, 0.04544645, 0.07293206,\n",
       "        0.14736336, 0.23072097, 0.22568358, 0.17759176, 0.16830264,\n",
       "        0.15138106, 0.14164835, 0.0825203 , 0.5717056 , 0.46831524,\n",
       "        0.47730938, 0.51371956, 0.55140364, 0.40254748, 0.2737496 ,\n",
       "        0.2540559 , 0.38856834, 0.39903447, 0.41434228, 0.30141902,\n",
       "        0.33645177, 0.37418738, 0.39427698, 0.55901444, 0.454654  ,\n",
       "        0.47371894, 0.49771458, 0.5298126 , 0.725368  , 0.61480397,\n",
       "        0.6560359 , 0.6348636 , 0.6734333 , 0.6817919 , 0.59919685,\n",
       "        0.654475  , 0.62309045, 0.65717506, 0.80247045, 0.6839199 ,\n",
       "        0.691291  , 0.7040076 , 0.74470127, 0.5077465 , 0.3682871 ,\n",
       "        0.4336642 , 0.45984674, 0.50859123, 0.48485568, 0.33142492,\n",
       "        0.4017912 , 0.43377846, 0.47938585, 0.43211254, 0.28985074,\n",
       "        0.31099352, 0.38633555, 0.4147724 , 0.2671271 , 0.1740526 ,\n",
       "        0.16757154, 0.24382761, 0.24852282, 0.58439636, 0.4990516 ,\n",
       "        0.5757141 , 0.5211395 , 0.5527869 , 0.5214922 , 0.39215875,\n",
       "        0.4195374 , 0.48013562, 0.5100778 , 0.69753957, 0.5703218 ,\n",
       "        0.62248564, 0.6173437 , 0.6628337 , 0.5938801 , 0.54433155,\n",
       "        0.5786591 , 0.50631666, 0.5578852 , 0.61666024, 0.49040473,\n",
       "        0.5419321 , 0.5780511 , 0.5805527 , 0.5134808 , 0.36578122,\n",
       "        0.37458763, 0.4829756 , 0.49136505, 0.4157292 , 0.3674937 ,\n",
       "        0.3290102 , 0.4517969 , 0.45007008, 0.75505626, 0.71303046,\n",
       "        0.68042326, 0.66872835, 0.7122239 , 0.7820811 , 0.6971518 ,\n",
       "        0.6600899 , 0.7060231 , 0.740721  , 0.29689282, 0.19710061,\n",
       "        0.14265804, 0.29741868, 0.29002053, 0.5124127 , 0.3519626 ,\n",
       "        0.28294474, 0.45109296, 0.48516315, 0.5982055 , 0.40448308,\n",
       "        0.35117635, 0.54573184, 0.56990826, 0.3216067 , 0.21888047,\n",
       "        0.18122898, 0.32357064, 0.32100376, 0.33093148, 0.22734886,\n",
       "        0.15224561, 0.30992407, 0.3205788 , 0.40006125, 0.2827493 ,\n",
       "        0.20630519, 0.37319744, 0.4044881 , 0.4668543 , 0.32404765,\n",
       "        0.31198597, 0.473725  , 0.4663143 , 0.38894212, 0.25947103,\n",
       "        0.21853304, 0.3639269 , 0.37105787, 0.34941941, 0.21945977,\n",
       "        0.15827453, 0.31051219, 0.3242885 , 0.48143202, 0.36179328,\n",
       "        0.32085156, 0.44193184, 0.47007656, 0.50689805, 0.38973677,\n",
       "        0.36380768, 0.46473855, 0.48466212, 0.45483685, 0.25214908,\n",
       "        0.20477661, 0.42467314, 0.43841898, 0.38915324, 0.29704115,\n",
       "        0.25610554, 0.36147964, 0.37006998, 0.26278996, 0.11448397,\n",
       "        0.23844856]], dtype=float32)"
      ]
     },
     "execution_count": 47,
     "metadata": {},
     "output_type": "execute_result"
    }
   ],
   "source": [
    "similarity"
   ]
  },
  {
   "cell_type": "code",
   "execution_count": 48,
   "metadata": {},
   "outputs": [],
   "source": [
    "index = numpy.argmax(similarity)"
   ]
  },
  {
   "cell_type": "code",
   "execution_count": 49,
   "metadata": {},
   "outputs": [
    {
     "data": {
      "text/plain": [
       "24"
      ]
     },
     "execution_count": 49,
     "metadata": {},
     "output_type": "execute_result"
    }
   ],
   "source": [
    "index"
   ]
  },
  {
   "cell_type": "code",
   "execution_count": 50,
   "metadata": {},
   "outputs": [
    {
     "data": {
      "text/plain": [
       "'The toothbrush is on shelf 1 in the closet in the bathroom.'"
      ]
     },
     "execution_count": 50,
     "metadata": {},
     "output_type": "execute_result"
    }
   ],
   "source": [
    "data['Answer'][index]"
   ]
  },
  {
   "cell_type": "code",
   "execution_count": 51,
   "metadata": {},
   "outputs": [],
   "source": [
    "def takeCommand():\n",
    "        r = speech_recognition.Recognizer()\n",
    "        with speech_recognition.Microphone() as source:\n",
    "            print(\"Listening...\")\n",
    "            r.pause_threshold = 1\n",
    "            audio = r.listen(source)            \n",
    "            try:\n",
    "                print(\"recognizing...\")\n",
    "                query = r.recognize_google(audio, language='tr-tr')\n",
    "                query = r.recognize_google(audio, language='en-tr')\n",
    "                print(query)\n",
    "            except Exception as e:\n",
    "                print(\"say that again please..\")\n",
    "                return \"none\"\n",
    "            return query"
   ]
  },
  {
   "cell_type": "code",
   "execution_count": 52,
   "metadata": {},
   "outputs": [],
   "source": [
    "def sentence_similarities(question):\n",
    "    sentence_vecs1 = model.encode(question)\n",
    "    similarity = cosine_similarity(sentence_vecs1,sentence_vecs[0:])\n",
    "    index = numpy.argmax(similarity)\n",
    "    answer = data['Answer'][index]\n",
    "    speaker.say(answer)\n",
    "    speaker.runAndWait()\n",
    "    return answer"
   ]
  },
  {
   "cell_type": "code",
   "execution_count": 54,
   "metadata": {},
   "outputs": [
    {
     "name": "stdout",
     "output_type": "stream",
     "text": [
      "Listening...\n",
      "recognizing...\n",
      "hey melon\n",
      "Listening...\n",
      "recognizing...\n",
      "how can I go to bathroom\n",
      "Bathroom, Opposite the Bedroom, crosswise the Living room, The room to the right of the Kitchen.\n",
      "Listening...\n",
      "recognizing...\n",
      "Maryland\n",
      "Listening...\n",
      "recognizing...\n",
      "my mom\n",
      "Listening...\n",
      "recognizing...\n",
      "hey melon\n",
      "Listening...\n",
      "recognizing...\n",
      "British my t-shirt\n",
      "It's in the wardrobe in the bedroom.\n",
      "Listening...\n",
      "recognizing...\n",
      "hey melon\n",
      "Listening...\n",
      "recognizing...\n",
      "where is the toilet\n",
      "Bathroom, Opposite the Bedroom, crosswise the Living room, The room to the right of the Kitchen.\n",
      "Listening...\n"
     ]
    },
    {
     "ename": "KeyboardInterrupt",
     "evalue": "",
     "output_type": "error",
     "traceback": [
      "\u001b[1;31m---------------------------------------------------------------------------\u001b[0m",
      "\u001b[1;31mKeyboardInterrupt\u001b[0m                         Traceback (most recent call last)",
      "\u001b[1;32m~\\AppData\\Local\\Temp/ipykernel_16260/673809990.py\u001b[0m in \u001b[0;36m<module>\u001b[1;34m\u001b[0m\n\u001b[0;32m      1\u001b[0m \u001b[1;32mif\u001b[0m \u001b[0m__name__\u001b[0m \u001b[1;33m==\u001b[0m \u001b[1;34m\"__main__\"\u001b[0m\u001b[1;33m:\u001b[0m\u001b[1;33m\u001b[0m\u001b[1;33m\u001b[0m\u001b[0m\n\u001b[0;32m      2\u001b[0m         \u001b[1;32mwhile\u001b[0m \u001b[1;32mTrue\u001b[0m\u001b[1;33m:\u001b[0m\u001b[1;33m\u001b[0m\u001b[1;33m\u001b[0m\u001b[0m\n\u001b[1;32m----> 3\u001b[1;33m             \u001b[0mquery\u001b[0m \u001b[1;33m=\u001b[0m \u001b[0mtakeCommand\u001b[0m\u001b[1;33m(\u001b[0m\u001b[1;33m)\u001b[0m\u001b[1;33m.\u001b[0m\u001b[0mlower\u001b[0m\u001b[1;33m(\u001b[0m\u001b[1;33m)\u001b[0m\u001b[1;33m\u001b[0m\u001b[1;33m\u001b[0m\u001b[0m\n\u001b[0m\u001b[0;32m      4\u001b[0m             \u001b[1;32mif\u001b[0m \u001b[1;34m\"melon\"\u001b[0m \u001b[1;32min\u001b[0m \u001b[0mquery\u001b[0m \u001b[1;33m:\u001b[0m\u001b[1;33m\u001b[0m\u001b[1;33m\u001b[0m\u001b[0m\n\u001b[0;32m      5\u001b[0m                 \u001b[0mspeaker\u001b[0m\u001b[1;33m.\u001b[0m\u001b[0msay\u001b[0m\u001b[1;33m(\u001b[0m\u001b[1;34m\"What can I do for you\"\u001b[0m\u001b[1;33m)\u001b[0m\u001b[1;33m\u001b[0m\u001b[1;33m\u001b[0m\u001b[0m\n",
      "\u001b[1;32m~\\AppData\\Local\\Temp/ipykernel_16260/3364684824.py\u001b[0m in \u001b[0;36mtakeCommand\u001b[1;34m()\u001b[0m\n\u001b[0;32m      4\u001b[0m             \u001b[0mprint\u001b[0m\u001b[1;33m(\u001b[0m\u001b[1;34m\"Listening...\"\u001b[0m\u001b[1;33m)\u001b[0m\u001b[1;33m\u001b[0m\u001b[1;33m\u001b[0m\u001b[0m\n\u001b[0;32m      5\u001b[0m             \u001b[0mr\u001b[0m\u001b[1;33m.\u001b[0m\u001b[0mpause_threshold\u001b[0m \u001b[1;33m=\u001b[0m \u001b[1;36m1\u001b[0m\u001b[1;33m\u001b[0m\u001b[1;33m\u001b[0m\u001b[0m\n\u001b[1;32m----> 6\u001b[1;33m             \u001b[0maudio\u001b[0m \u001b[1;33m=\u001b[0m \u001b[0mr\u001b[0m\u001b[1;33m.\u001b[0m\u001b[0mlisten\u001b[0m\u001b[1;33m(\u001b[0m\u001b[0msource\u001b[0m\u001b[1;33m)\u001b[0m\u001b[1;33m\u001b[0m\u001b[1;33m\u001b[0m\u001b[0m\n\u001b[0m\u001b[0;32m      7\u001b[0m             \u001b[1;32mtry\u001b[0m\u001b[1;33m:\u001b[0m\u001b[1;33m\u001b[0m\u001b[1;33m\u001b[0m\u001b[0m\n\u001b[0;32m      8\u001b[0m                 \u001b[0mprint\u001b[0m\u001b[1;33m(\u001b[0m\u001b[1;34m\"recognizing...\"\u001b[0m\u001b[1;33m)\u001b[0m\u001b[1;33m\u001b[0m\u001b[1;33m\u001b[0m\u001b[0m\n",
      "\u001b[1;32mc:\\Users\\berka\\anaconda3\\lib\\site-packages\\speech_recognition\\__init__.py\u001b[0m in \u001b[0;36mlisten\u001b[1;34m(self, source, timeout, phrase_time_limit, snowboy_configuration)\u001b[0m\n\u001b[0;32m    650\u001b[0m                     \u001b[1;32mbreak\u001b[0m\u001b[1;33m\u001b[0m\u001b[1;33m\u001b[0m\u001b[0m\n\u001b[0;32m    651\u001b[0m \u001b[1;33m\u001b[0m\u001b[0m\n\u001b[1;32m--> 652\u001b[1;33m                 \u001b[0mbuffer\u001b[0m \u001b[1;33m=\u001b[0m \u001b[0msource\u001b[0m\u001b[1;33m.\u001b[0m\u001b[0mstream\u001b[0m\u001b[1;33m.\u001b[0m\u001b[0mread\u001b[0m\u001b[1;33m(\u001b[0m\u001b[0msource\u001b[0m\u001b[1;33m.\u001b[0m\u001b[0mCHUNK\u001b[0m\u001b[1;33m)\u001b[0m\u001b[1;33m\u001b[0m\u001b[1;33m\u001b[0m\u001b[0m\n\u001b[0m\u001b[0;32m    653\u001b[0m                 \u001b[1;32mif\u001b[0m \u001b[0mlen\u001b[0m\u001b[1;33m(\u001b[0m\u001b[0mbuffer\u001b[0m\u001b[1;33m)\u001b[0m \u001b[1;33m==\u001b[0m \u001b[1;36m0\u001b[0m\u001b[1;33m:\u001b[0m \u001b[1;32mbreak\u001b[0m  \u001b[1;31m# reached end of the stream\u001b[0m\u001b[1;33m\u001b[0m\u001b[1;33m\u001b[0m\u001b[0m\n\u001b[0;32m    654\u001b[0m                 \u001b[0mframes\u001b[0m\u001b[1;33m.\u001b[0m\u001b[0mappend\u001b[0m\u001b[1;33m(\u001b[0m\u001b[0mbuffer\u001b[0m\u001b[1;33m)\u001b[0m\u001b[1;33m\u001b[0m\u001b[1;33m\u001b[0m\u001b[0m\n",
      "\u001b[1;32mc:\\Users\\berka\\anaconda3\\lib\\site-packages\\speech_recognition\\__init__.py\u001b[0m in \u001b[0;36mread\u001b[1;34m(self, size)\u001b[0m\n\u001b[0;32m    159\u001b[0m \u001b[1;33m\u001b[0m\u001b[0m\n\u001b[0;32m    160\u001b[0m         \u001b[1;32mdef\u001b[0m \u001b[0mread\u001b[0m\u001b[1;33m(\u001b[0m\u001b[0mself\u001b[0m\u001b[1;33m,\u001b[0m \u001b[0msize\u001b[0m\u001b[1;33m)\u001b[0m\u001b[1;33m:\u001b[0m\u001b[1;33m\u001b[0m\u001b[1;33m\u001b[0m\u001b[0m\n\u001b[1;32m--> 161\u001b[1;33m             \u001b[1;32mreturn\u001b[0m \u001b[0mself\u001b[0m\u001b[1;33m.\u001b[0m\u001b[0mpyaudio_stream\u001b[0m\u001b[1;33m.\u001b[0m\u001b[0mread\u001b[0m\u001b[1;33m(\u001b[0m\u001b[0msize\u001b[0m\u001b[1;33m,\u001b[0m \u001b[0mexception_on_overflow\u001b[0m\u001b[1;33m=\u001b[0m\u001b[1;32mFalse\u001b[0m\u001b[1;33m)\u001b[0m\u001b[1;33m\u001b[0m\u001b[1;33m\u001b[0m\u001b[0m\n\u001b[0m\u001b[0;32m    162\u001b[0m \u001b[1;33m\u001b[0m\u001b[0m\n\u001b[0;32m    163\u001b[0m         \u001b[1;32mdef\u001b[0m \u001b[0mclose\u001b[0m\u001b[1;33m(\u001b[0m\u001b[0mself\u001b[0m\u001b[1;33m)\u001b[0m\u001b[1;33m:\u001b[0m\u001b[1;33m\u001b[0m\u001b[1;33m\u001b[0m\u001b[0m\n",
      "\u001b[1;32mc:\\Users\\berka\\anaconda3\\lib\\site-packages\\pyaudio.py\u001b[0m in \u001b[0;36mread\u001b[1;34m(self, num_frames, exception_on_overflow)\u001b[0m\n\u001b[0;32m    610\u001b[0m                           paCanNotReadFromAnOutputOnlyStream)\n\u001b[0;32m    611\u001b[0m \u001b[1;33m\u001b[0m\u001b[0m\n\u001b[1;32m--> 612\u001b[1;33m         \u001b[1;32mreturn\u001b[0m \u001b[0mpa\u001b[0m\u001b[1;33m.\u001b[0m\u001b[0mread_stream\u001b[0m\u001b[1;33m(\u001b[0m\u001b[0mself\u001b[0m\u001b[1;33m.\u001b[0m\u001b[0m_stream\u001b[0m\u001b[1;33m,\u001b[0m \u001b[0mnum_frames\u001b[0m\u001b[1;33m,\u001b[0m \u001b[0mexception_on_overflow\u001b[0m\u001b[1;33m)\u001b[0m\u001b[1;33m\u001b[0m\u001b[1;33m\u001b[0m\u001b[0m\n\u001b[0m\u001b[0;32m    613\u001b[0m \u001b[1;33m\u001b[0m\u001b[0m\n\u001b[0;32m    614\u001b[0m     \u001b[1;32mdef\u001b[0m \u001b[0mget_read_available\u001b[0m\u001b[1;33m(\u001b[0m\u001b[0mself\u001b[0m\u001b[1;33m)\u001b[0m\u001b[1;33m:\u001b[0m\u001b[1;33m\u001b[0m\u001b[1;33m\u001b[0m\u001b[0m\n",
      "\u001b[1;31mKeyboardInterrupt\u001b[0m: "
     ]
    }
   ],
   "source": [
    "if __name__ == \"__main__\":  \n",
    "        while True:\n",
    "            query = takeCommand().lower()\n",
    "            if \"melon\" in query :\n",
    "                speaker.say(\"What can I do for you\")\n",
    "                speaker.runAndWait()\n",
    "                query = takeCommand().lower()\n",
    "                query = query\n",
    "                sentence_similarities([query])"
   ]
  }
 ],
 "metadata": {
  "kernelspec": {
   "display_name": "base",
   "language": "python",
   "name": "python3"
  },
  "language_info": {
   "codemirror_mode": {
    "name": "ipython",
    "version": 3
   },
   "file_extension": ".py",
   "mimetype": "text/x-python",
   "name": "python",
   "nbconvert_exporter": "python",
   "pygments_lexer": "ipython3",
   "version": "3.9.7 (default, Sep 16 2021, 16:59:28) [MSC v.1916 64 bit (AMD64)]"
  },
  "orig_nbformat": 4,
  "vscode": {
   "interpreter": {
    "hash": "939426be350ea136d7702cb38d9d1c611a2da7982b737f0b7151fc28273a1a91"
   }
  }
 },
 "nbformat": 4,
 "nbformat_minor": 2
}
